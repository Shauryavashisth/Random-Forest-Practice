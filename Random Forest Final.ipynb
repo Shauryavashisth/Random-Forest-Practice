{
 "cells": [
  {
   "cell_type": "code",
   "execution_count": 1,
   "metadata": {},
   "outputs": [],
   "source": [
    "import pandas as pd\n",
    "import numpy as np\n",
    "import seaborn as sns\n",
    "import matplotlib"
   ]
  },
  {
   "cell_type": "code",
   "execution_count": 2,
   "metadata": {},
   "outputs": [],
   "source": [
    "df = pd.read_csv(\"D:\\Study\\BA\\TEST\\Linear\\housing.csv\")"
   ]
  },
  {
   "cell_type": "code",
   "execution_count": 3,
   "metadata": {},
   "outputs": [
    {
     "name": "stdout",
     "output_type": "stream",
     "text": [
      "<class 'pandas.core.frame.DataFrame'>\n",
      "RangeIndex: 384977 entries, 0 to 384976\n",
      "Data columns (total 22 columns):\n",
      " #   Column                   Non-Null Count   Dtype  \n",
      "---  ------                   --------------   -----  \n",
      " 0   id                       384977 non-null  int64  \n",
      " 1   url                      384977 non-null  object \n",
      " 2   region                   384977 non-null  object \n",
      " 3   region_url               384977 non-null  object \n",
      " 4   price                    384977 non-null  int64  \n",
      " 5   type                     384977 non-null  object \n",
      " 6   sqfeet                   384977 non-null  int64  \n",
      " 7   beds                     384977 non-null  int64  \n",
      " 8   baths                    384977 non-null  float64\n",
      " 9   cats_allowed             384977 non-null  int64  \n",
      " 10  dogs_allowed             384977 non-null  int64  \n",
      " 11  smoking_allowed          384977 non-null  int64  \n",
      " 12  wheelchair_access        384977 non-null  int64  \n",
      " 13  electric_vehicle_charge  384977 non-null  int64  \n",
      " 14  comes_furnished          384977 non-null  int64  \n",
      " 15  laundry_options          305951 non-null  object \n",
      " 16  parking_options          244290 non-null  object \n",
      " 17  image_url                384977 non-null  object \n",
      " 18  description              384975 non-null  object \n",
      " 19  lat                      383059 non-null  float64\n",
      " 20  long                     383059 non-null  float64\n",
      " 21  state                    384977 non-null  object \n",
      "dtypes: float64(3), int64(10), object(9)\n",
      "memory usage: 64.6+ MB\n"
     ]
    }
   ],
   "source": [
    "df.info()"
   ]
  },
  {
   "cell_type": "code",
   "execution_count": 4,
   "metadata": {},
   "outputs": [
    {
     "data": {
      "text/html": [
       "<div>\n",
       "<style scoped>\n",
       "    .dataframe tbody tr th:only-of-type {\n",
       "        vertical-align: middle;\n",
       "    }\n",
       "\n",
       "    .dataframe tbody tr th {\n",
       "        vertical-align: top;\n",
       "    }\n",
       "\n",
       "    .dataframe thead th {\n",
       "        text-align: right;\n",
       "    }\n",
       "</style>\n",
       "<table border=\"1\" class=\"dataframe\">\n",
       "  <thead>\n",
       "    <tr style=\"text-align: right;\">\n",
       "      <th></th>\n",
       "      <th>id</th>\n",
       "      <th>price</th>\n",
       "      <th>sqfeet</th>\n",
       "      <th>beds</th>\n",
       "      <th>baths</th>\n",
       "      <th>cats_allowed</th>\n",
       "      <th>dogs_allowed</th>\n",
       "      <th>smoking_allowed</th>\n",
       "      <th>wheelchair_access</th>\n",
       "      <th>electric_vehicle_charge</th>\n",
       "      <th>comes_furnished</th>\n",
       "      <th>lat</th>\n",
       "      <th>long</th>\n",
       "    </tr>\n",
       "  </thead>\n",
       "  <tbody>\n",
       "    <tr>\n",
       "      <th>count</th>\n",
       "      <td>3.849770e+05</td>\n",
       "      <td>3.849770e+05</td>\n",
       "      <td>3.849770e+05</td>\n",
       "      <td>384977.000000</td>\n",
       "      <td>384977.000000</td>\n",
       "      <td>384977.000000</td>\n",
       "      <td>384977.000000</td>\n",
       "      <td>384977.000000</td>\n",
       "      <td>384977.000000</td>\n",
       "      <td>384977.000000</td>\n",
       "      <td>384977.000000</td>\n",
       "      <td>383059.000000</td>\n",
       "      <td>383059.000000</td>\n",
       "    </tr>\n",
       "    <tr>\n",
       "      <th>mean</th>\n",
       "      <td>7.040982e+09</td>\n",
       "      <td>8.825722e+03</td>\n",
       "      <td>1.059900e+03</td>\n",
       "      <td>1.905345</td>\n",
       "      <td>1.480718</td>\n",
       "      <td>0.726890</td>\n",
       "      <td>0.707918</td>\n",
       "      <td>0.731771</td>\n",
       "      <td>0.082111</td>\n",
       "      <td>0.012871</td>\n",
       "      <td>0.048128</td>\n",
       "      <td>37.233487</td>\n",
       "      <td>-92.700631</td>\n",
       "    </tr>\n",
       "    <tr>\n",
       "      <th>std</th>\n",
       "      <td>8.800376e+06</td>\n",
       "      <td>4.462200e+06</td>\n",
       "      <td>1.915076e+04</td>\n",
       "      <td>3.494572</td>\n",
       "      <td>0.618061</td>\n",
       "      <td>0.445557</td>\n",
       "      <td>0.454721</td>\n",
       "      <td>0.443038</td>\n",
       "      <td>0.274535</td>\n",
       "      <td>0.112718</td>\n",
       "      <td>0.214036</td>\n",
       "      <td>5.546171</td>\n",
       "      <td>16.531980</td>\n",
       "    </tr>\n",
       "    <tr>\n",
       "      <th>min</th>\n",
       "      <td>7.003808e+09</td>\n",
       "      <td>0.000000e+00</td>\n",
       "      <td>0.000000e+00</td>\n",
       "      <td>0.000000</td>\n",
       "      <td>0.000000</td>\n",
       "      <td>0.000000</td>\n",
       "      <td>0.000000</td>\n",
       "      <td>0.000000</td>\n",
       "      <td>0.000000</td>\n",
       "      <td>0.000000</td>\n",
       "      <td>0.000000</td>\n",
       "      <td>-43.533300</td>\n",
       "      <td>-163.894000</td>\n",
       "    </tr>\n",
       "    <tr>\n",
       "      <th>25%</th>\n",
       "      <td>7.035979e+09</td>\n",
       "      <td>8.050000e+02</td>\n",
       "      <td>7.500000e+02</td>\n",
       "      <td>1.000000</td>\n",
       "      <td>1.000000</td>\n",
       "      <td>0.000000</td>\n",
       "      <td>0.000000</td>\n",
       "      <td>0.000000</td>\n",
       "      <td>0.000000</td>\n",
       "      <td>0.000000</td>\n",
       "      <td>0.000000</td>\n",
       "      <td>33.454700</td>\n",
       "      <td>-100.775000</td>\n",
       "    </tr>\n",
       "    <tr>\n",
       "      <th>50%</th>\n",
       "      <td>7.043320e+09</td>\n",
       "      <td>1.036000e+03</td>\n",
       "      <td>9.490000e+02</td>\n",
       "      <td>2.000000</td>\n",
       "      <td>1.000000</td>\n",
       "      <td>1.000000</td>\n",
       "      <td>1.000000</td>\n",
       "      <td>1.000000</td>\n",
       "      <td>0.000000</td>\n",
       "      <td>0.000000</td>\n",
       "      <td>0.000000</td>\n",
       "      <td>37.647800</td>\n",
       "      <td>-87.745100</td>\n",
       "    </tr>\n",
       "    <tr>\n",
       "      <th>75%</th>\n",
       "      <td>7.048426e+09</td>\n",
       "      <td>1.395000e+03</td>\n",
       "      <td>1.150000e+03</td>\n",
       "      <td>2.000000</td>\n",
       "      <td>2.000000</td>\n",
       "      <td>1.000000</td>\n",
       "      <td>1.000000</td>\n",
       "      <td>1.000000</td>\n",
       "      <td>0.000000</td>\n",
       "      <td>0.000000</td>\n",
       "      <td>0.000000</td>\n",
       "      <td>41.138300</td>\n",
       "      <td>-81.179600</td>\n",
       "    </tr>\n",
       "    <tr>\n",
       "      <th>max</th>\n",
       "      <td>7.051292e+09</td>\n",
       "      <td>2.768307e+09</td>\n",
       "      <td>8.388607e+06</td>\n",
       "      <td>1100.000000</td>\n",
       "      <td>75.000000</td>\n",
       "      <td>1.000000</td>\n",
       "      <td>1.000000</td>\n",
       "      <td>1.000000</td>\n",
       "      <td>1.000000</td>\n",
       "      <td>1.000000</td>\n",
       "      <td>1.000000</td>\n",
       "      <td>102.036000</td>\n",
       "      <td>172.633000</td>\n",
       "    </tr>\n",
       "  </tbody>\n",
       "</table>\n",
       "</div>"
      ],
      "text/plain": [
       "                 id         price        sqfeet           beds          baths  \\\n",
       "count  3.849770e+05  3.849770e+05  3.849770e+05  384977.000000  384977.000000   \n",
       "mean   7.040982e+09  8.825722e+03  1.059900e+03       1.905345       1.480718   \n",
       "std    8.800376e+06  4.462200e+06  1.915076e+04       3.494572       0.618061   \n",
       "min    7.003808e+09  0.000000e+00  0.000000e+00       0.000000       0.000000   \n",
       "25%    7.035979e+09  8.050000e+02  7.500000e+02       1.000000       1.000000   \n",
       "50%    7.043320e+09  1.036000e+03  9.490000e+02       2.000000       1.000000   \n",
       "75%    7.048426e+09  1.395000e+03  1.150000e+03       2.000000       2.000000   \n",
       "max    7.051292e+09  2.768307e+09  8.388607e+06    1100.000000      75.000000   \n",
       "\n",
       "        cats_allowed   dogs_allowed  smoking_allowed  wheelchair_access  \\\n",
       "count  384977.000000  384977.000000    384977.000000      384977.000000   \n",
       "mean        0.726890       0.707918         0.731771           0.082111   \n",
       "std         0.445557       0.454721         0.443038           0.274535   \n",
       "min         0.000000       0.000000         0.000000           0.000000   \n",
       "25%         0.000000       0.000000         0.000000           0.000000   \n",
       "50%         1.000000       1.000000         1.000000           0.000000   \n",
       "75%         1.000000       1.000000         1.000000           0.000000   \n",
       "max         1.000000       1.000000         1.000000           1.000000   \n",
       "\n",
       "       electric_vehicle_charge  comes_furnished            lat           long  \n",
       "count            384977.000000    384977.000000  383059.000000  383059.000000  \n",
       "mean                  0.012871         0.048128      37.233487     -92.700631  \n",
       "std                   0.112718         0.214036       5.546171      16.531980  \n",
       "min                   0.000000         0.000000     -43.533300    -163.894000  \n",
       "25%                   0.000000         0.000000      33.454700    -100.775000  \n",
       "50%                   0.000000         0.000000      37.647800     -87.745100  \n",
       "75%                   0.000000         0.000000      41.138300     -81.179600  \n",
       "max                   1.000000         1.000000     102.036000     172.633000  "
      ]
     },
     "execution_count": 4,
     "metadata": {},
     "output_type": "execute_result"
    }
   ],
   "source": [
    "df.describe()"
   ]
  },
  {
   "cell_type": "code",
   "execution_count": 5,
   "metadata": {},
   "outputs": [],
   "source": [
    "#droping the useless variable\n",
    "df = df.drop(['id','url','region','region_url','image_url','description'],axis=1)"
   ]
  },
  {
   "cell_type": "code",
   "execution_count": 6,
   "metadata": {},
   "outputs": [
    {
     "data": {
      "text/plain": [
       "price                       3961\n",
       "type                          12\n",
       "sqfeet                      3277\n",
       "beds                          11\n",
       "baths                         20\n",
       "cats_allowed                   2\n",
       "dogs_allowed                   2\n",
       "smoking_allowed                2\n",
       "wheelchair_access              2\n",
       "electric_vehicle_charge        2\n",
       "comes_furnished                2\n",
       "laundry_options                5\n",
       "parking_options                7\n",
       "lat                        56772\n",
       "long                       54035\n",
       "state                         51\n",
       "dtype: int64"
      ]
     },
     "execution_count": 6,
     "metadata": {},
     "output_type": "execute_result"
    }
   ],
   "source": [
    "df.nunique()"
   ]
  },
  {
   "cell_type": "code",
   "execution_count": 7,
   "metadata": {},
   "outputs": [],
   "source": [
    "#Pre-Processing the DATA\n",
    "#Missing Value Treatment"
   ]
  },
  {
   "cell_type": "code",
   "execution_count": 8,
   "metadata": {},
   "outputs": [
    {
     "data": {
      "text/plain": [
       "price                           0\n",
       "type                            0\n",
       "sqfeet                          0\n",
       "beds                            0\n",
       "baths                           0\n",
       "cats_allowed                    0\n",
       "dogs_allowed                    0\n",
       "smoking_allowed                 0\n",
       "wheelchair_access               0\n",
       "electric_vehicle_charge         0\n",
       "comes_furnished                 0\n",
       "laundry_options             79026\n",
       "parking_options            140687\n",
       "lat                          1918\n",
       "long                         1918\n",
       "state                           0\n",
       "dtype: int64"
      ]
     },
     "execution_count": 8,
     "metadata": {},
     "output_type": "execute_result"
    }
   ],
   "source": [
    "df.isnull().sum()"
   ]
  },
  {
   "cell_type": "code",
   "execution_count": 9,
   "metadata": {},
   "outputs": [],
   "source": [
    "df.laundry_options = df.laundry_options.fillna(df['laundry_options'].mode()[0])"
   ]
  },
  {
   "cell_type": "code",
   "execution_count": 10,
   "metadata": {},
   "outputs": [],
   "source": [
    "df.parking_options = df.parking_options.fillna(df['parking_options'].mode()[0])"
   ]
  },
  {
   "cell_type": "code",
   "execution_count": 11,
   "metadata": {},
   "outputs": [],
   "source": [
    "df.lat = df.lat.fillna(df['lat'].mean())"
   ]
  },
  {
   "cell_type": "code",
   "execution_count": 12,
   "metadata": {},
   "outputs": [],
   "source": [
    "df.long = df.long.fillna(df['long'].mean())"
   ]
  },
  {
   "cell_type": "code",
   "execution_count": 13,
   "metadata": {},
   "outputs": [
    {
     "data": {
      "text/plain": [
       "<matplotlib.axes._subplots.AxesSubplot at 0x1c883e25e50>"
      ]
     },
     "execution_count": 13,
     "metadata": {},
     "output_type": "execute_result"
    },
    {
     "data": {
      "image/png": "[encoded data removed]",
      "text/plain": [
       "<Figure size 2160x576 with 1 Axes>"
      ]
     },
     "metadata": {
      "needs_background": "light"
     },
     "output_type": "display_data"
    }
   ],
   "source": [
    "df.boxplot(figsize=(30,8))"
   ]
  },
  {
   "cell_type": "code",
   "execution_count": 14,
   "metadata": {},
   "outputs": [],
   "source": [
    "min=df['price'].quantile(0.05)\n",
    "max=df['price'].quantile(0.95)\n",
    "new=np.where(df['price']<min,min,df['price'])\n",
    "df.price=new\n",
    "new=np.where(df['price']>max,max,df['price'])\n",
    "df.price=new"
   ]
  },
  {
   "cell_type": "code",
   "execution_count": 15,
   "metadata": {},
   "outputs": [],
   "source": [
    "min=df['sqfeet'].quantile(0.05)\n",
    "max=df['sqfeet'].quantile(0.95)\n",
    "new=np.where(df['sqfeet']<min,min,df['sqfeet'])\n",
    "df.sqfeet=new\n",
    "new=np.where(df['sqfeet']>max,max,df['sqfeet'])\n",
    "df.sqfeet=new"
   ]
  },
  {
   "cell_type": "code",
   "execution_count": 16,
   "metadata": {},
   "outputs": [],
   "source": [
    "min=df['beds'].quantile(0.05)\n",
    "max=df['beds'].quantile(0.95)\n",
    "new=np.where(df['beds']<min,min,df['beds'])\n",
    "df.beds=new\n",
    "new=np.where(df['beds']>max,max,df['beds'])\n",
    "df.beds=new"
   ]
  },
  {
   "cell_type": "code",
   "execution_count": 17,
   "metadata": {},
   "outputs": [],
   "source": [
    "min=df['baths'].quantile(0.05)\n",
    "max=df['baths'].quantile(0.95)\n",
    "new=np.where(df['baths']<min,min,df['baths'])\n",
    "df.baths=new\n",
    "new=np.where(df['baths']>max,max,df['baths'])\n",
    "df.baths=new"
   ]
  },
  {
   "cell_type": "code",
   "execution_count": 18,
   "metadata": {},
   "outputs": [
    {
     "data": {
      "text/plain": [
       "<matplotlib.axes._subplots.AxesSubplot at 0x1c8a5ea8d90>"
      ]
     },
     "execution_count": 18,
     "metadata": {},
     "output_type": "execute_result"
    },
    {
     "data": {
      "image/png": "[encoded data removed]",
      "text/plain": [
       "<Figure size 432x288 with 1 Axes>"
      ]
     },
     "metadata": {
      "needs_background": "light"
     },
     "output_type": "display_data"
    }
   ],
   "source": [
    "df.boxplot('wheelchair_access')"
   ]
  },
  {
   "cell_type": "code",
   "execution_count": 19,
   "metadata": {},
   "outputs": [
    {
     "data": {
      "text/plain": [
       "<matplotlib.axes._subplots.AxesSubplot at 0x1c88be37eb0>"
      ]
     },
     "execution_count": 19,
     "metadata": {},
     "output_type": "execute_result"
    },
    {
     "data": {
      "image/png": "[encoded data removed]",
      "text/plain": [
       "<Figure size 432x288 with 1 Axes>"
      ]
     },
     "metadata": {
      "needs_background": "light"
     },
     "output_type": "display_data"
    }
   ],
   "source": [
    "df.boxplot('electric_vehicle_charge')"
   ]
  },
  {
   "cell_type": "code",
   "execution_count": 20,
   "metadata": {},
   "outputs": [
    {
     "data": {
      "text/plain": [
       "<matplotlib.axes._subplots.AxesSubplot at 0x1c885845550>"
      ]
     },
     "execution_count": 20,
     "metadata": {},
     "output_type": "execute_result"
    },
    {
     "data": {
      "image/png": "[encoded data removed]",
      "text/plain": [
       "<Figure size 432x288 with 1 Axes>"
      ]
     },
     "metadata": {
      "needs_background": "light"
     },
     "output_type": "display_data"
    }
   ],
   "source": [
    "df.boxplot('comes_furnished')"
   ]
  },
  {
   "cell_type": "code",
   "execution_count": 21,
   "metadata": {},
   "outputs": [],
   "source": [
    "min=df['long'].quantile(0.05)\n",
    "max=df['long'].quantile(0.95)\n",
    "new=np.where(df['long']<min,min,df['long'])\n",
    "df.long=new\n",
    "new=np.where(df['long']>max,max,df['long'])\n",
    "df.long=new"
   ]
  },
  {
   "cell_type": "code",
   "execution_count": 22,
   "metadata": {},
   "outputs": [],
   "source": [
    "min=df['lat'].quantile(0.05)\n",
    "max=df['lat'].quantile(0.95)\n",
    "new=np.where(df['lat']<min,min,df['lat'])\n",
    "df.lat=new\n",
    "new=np.where(df['lat']>max,max,df['lat'])\n",
    "df.lat=new"
   ]
  },
  {
   "cell_type": "code",
   "execution_count": 23,
   "metadata": {},
   "outputs": [
    {
     "data": {
      "text/html": [
       "<div>\n",
       "<style scoped>\n",
       "    .dataframe tbody tr th:only-of-type {\n",
       "        vertical-align: middle;\n",
       "    }\n",
       "\n",
       "    .dataframe tbody tr th {\n",
       "        vertical-align: top;\n",
       "    }\n",
       "\n",
       "    .dataframe thead th {\n",
       "        text-align: right;\n",
       "    }\n",
       "</style>\n",
       "<table border=\"1\" class=\"dataframe\">\n",
       "  <thead>\n",
       "    <tr style=\"text-align: right;\">\n",
       "      <th></th>\n",
       "      <th>price</th>\n",
       "      <th>sqfeet</th>\n",
       "      <th>beds</th>\n",
       "      <th>baths</th>\n",
       "      <th>cats_allowed</th>\n",
       "      <th>dogs_allowed</th>\n",
       "      <th>smoking_allowed</th>\n",
       "      <th>wheelchair_access</th>\n",
       "      <th>electric_vehicle_charge</th>\n",
       "      <th>comes_furnished</th>\n",
       "      <th>lat</th>\n",
       "      <th>long</th>\n",
       "    </tr>\n",
       "  </thead>\n",
       "  <tbody>\n",
       "    <tr>\n",
       "      <th>price</th>\n",
       "      <td>1.000000</td>\n",
       "      <td>0.359760</td>\n",
       "      <td>0.199046</td>\n",
       "      <td>0.298923</td>\n",
       "      <td>-0.028755</td>\n",
       "      <td>-0.022122</td>\n",
       "      <td>-0.165341</td>\n",
       "      <td>0.071598</td>\n",
       "      <td>0.117325</td>\n",
       "      <td>0.008886</td>\n",
       "      <td>0.060019</td>\n",
       "      <td>-0.197855</td>\n",
       "    </tr>\n",
       "    <tr>\n",
       "      <th>sqfeet</th>\n",
       "      <td>0.359760</td>\n",
       "      <td>1.000000</td>\n",
       "      <td>0.775170</td>\n",
       "      <td>0.701624</td>\n",
       "      <td>-0.077941</td>\n",
       "      <td>-0.035875</td>\n",
       "      <td>-0.036048</td>\n",
       "      <td>-0.016624</td>\n",
       "      <td>0.005507</td>\n",
       "      <td>0.008943</td>\n",
       "      <td>0.020885</td>\n",
       "      <td>0.073267</td>\n",
       "    </tr>\n",
       "    <tr>\n",
       "      <th>beds</th>\n",
       "      <td>0.199046</td>\n",
       "      <td>0.775170</td>\n",
       "      <td>1.000000</td>\n",
       "      <td>0.662077</td>\n",
       "      <td>-0.068734</td>\n",
       "      <td>-0.033793</td>\n",
       "      <td>-0.009782</td>\n",
       "      <td>-0.034978</td>\n",
       "      <td>-0.015991</td>\n",
       "      <td>0.005177</td>\n",
       "      <td>0.042250</td>\n",
       "      <td>0.023894</td>\n",
       "    </tr>\n",
       "    <tr>\n",
       "      <th>baths</th>\n",
       "      <td>0.298923</td>\n",
       "      <td>0.701624</td>\n",
       "      <td>0.662077</td>\n",
       "      <td>1.000000</td>\n",
       "      <td>-0.006286</td>\n",
       "      <td>0.033593</td>\n",
       "      <td>-0.008560</td>\n",
       "      <td>0.015447</td>\n",
       "      <td>0.008522</td>\n",
       "      <td>0.014225</td>\n",
       "      <td>-0.088372</td>\n",
       "      <td>-0.013435</td>\n",
       "    </tr>\n",
       "    <tr>\n",
       "      <th>cats_allowed</th>\n",
       "      <td>-0.028755</td>\n",
       "      <td>-0.077941</td>\n",
       "      <td>-0.068734</td>\n",
       "      <td>-0.006286</td>\n",
       "      <td>1.000000</td>\n",
       "      <td>0.887297</td>\n",
       "      <td>0.017029</td>\n",
       "      <td>0.122366</td>\n",
       "      <td>0.049356</td>\n",
       "      <td>-0.058884</td>\n",
       "      <td>-0.016147</td>\n",
       "      <td>0.020191</td>\n",
       "    </tr>\n",
       "    <tr>\n",
       "      <th>dogs_allowed</th>\n",
       "      <td>-0.022122</td>\n",
       "      <td>-0.035875</td>\n",
       "      <td>-0.033793</td>\n",
       "      <td>0.033593</td>\n",
       "      <td>0.887297</td>\n",
       "      <td>1.000000</td>\n",
       "      <td>0.013796</td>\n",
       "      <td>0.129112</td>\n",
       "      <td>0.049274</td>\n",
       "      <td>-0.037666</td>\n",
       "      <td>-0.060366</td>\n",
       "      <td>0.005241</td>\n",
       "    </tr>\n",
       "    <tr>\n",
       "      <th>smoking_allowed</th>\n",
       "      <td>-0.165341</td>\n",
       "      <td>-0.036048</td>\n",
       "      <td>-0.009782</td>\n",
       "      <td>-0.008560</td>\n",
       "      <td>0.017029</td>\n",
       "      <td>0.013796</td>\n",
       "      <td>1.000000</td>\n",
       "      <td>-0.223623</td>\n",
       "      <td>-0.096017</td>\n",
       "      <td>-0.161351</td>\n",
       "      <td>-0.185086</td>\n",
       "      <td>0.159481</td>\n",
       "    </tr>\n",
       "    <tr>\n",
       "      <th>wheelchair_access</th>\n",
       "      <td>0.071598</td>\n",
       "      <td>-0.016624</td>\n",
       "      <td>-0.034978</td>\n",
       "      <td>0.015447</td>\n",
       "      <td>0.122366</td>\n",
       "      <td>0.129112</td>\n",
       "      <td>-0.223623</td>\n",
       "      <td>1.000000</td>\n",
       "      <td>0.193245</td>\n",
       "      <td>0.195817</td>\n",
       "      <td>0.003903</td>\n",
       "      <td>-0.028282</td>\n",
       "    </tr>\n",
       "    <tr>\n",
       "      <th>electric_vehicle_charge</th>\n",
       "      <td>0.117325</td>\n",
       "      <td>0.005507</td>\n",
       "      <td>-0.015991</td>\n",
       "      <td>0.008522</td>\n",
       "      <td>0.049356</td>\n",
       "      <td>0.049274</td>\n",
       "      <td>-0.096017</td>\n",
       "      <td>0.193245</td>\n",
       "      <td>1.000000</td>\n",
       "      <td>0.069611</td>\n",
       "      <td>0.027735</td>\n",
       "      <td>-0.065967</td>\n",
       "    </tr>\n",
       "    <tr>\n",
       "      <th>comes_furnished</th>\n",
       "      <td>0.008886</td>\n",
       "      <td>0.008943</td>\n",
       "      <td>0.005177</td>\n",
       "      <td>0.014225</td>\n",
       "      <td>-0.058884</td>\n",
       "      <td>-0.037666</td>\n",
       "      <td>-0.161351</td>\n",
       "      <td>0.195817</td>\n",
       "      <td>0.069611</td>\n",
       "      <td>1.000000</td>\n",
       "      <td>0.005861</td>\n",
       "      <td>-0.020810</td>\n",
       "    </tr>\n",
       "    <tr>\n",
       "      <th>lat</th>\n",
       "      <td>0.060019</td>\n",
       "      <td>0.020885</td>\n",
       "      <td>0.042250</td>\n",
       "      <td>-0.088372</td>\n",
       "      <td>-0.016147</td>\n",
       "      <td>-0.060366</td>\n",
       "      <td>-0.185086</td>\n",
       "      <td>0.003903</td>\n",
       "      <td>0.027735</td>\n",
       "      <td>0.005861</td>\n",
       "      <td>1.000000</td>\n",
       "      <td>-0.096071</td>\n",
       "    </tr>\n",
       "    <tr>\n",
       "      <th>long</th>\n",
       "      <td>-0.197855</td>\n",
       "      <td>0.073267</td>\n",
       "      <td>0.023894</td>\n",
       "      <td>-0.013435</td>\n",
       "      <td>0.020191</td>\n",
       "      <td>0.005241</td>\n",
       "      <td>0.159481</td>\n",
       "      <td>-0.028282</td>\n",
       "      <td>-0.065967</td>\n",
       "      <td>-0.020810</td>\n",
       "      <td>-0.096071</td>\n",
       "      <td>1.000000</td>\n",
       "    </tr>\n",
       "  </tbody>\n",
       "</table>\n",
       "</div>"
      ],
      "text/plain": [
       "                            price    sqfeet      beds     baths  cats_allowed  \\\n",
       "price                    1.000000  0.359760  0.199046  0.298923     -0.028755   \n",
       "sqfeet                   0.359760  1.000000  0.775170  0.701624     -0.077941   \n",
       "beds                     0.199046  0.775170  1.000000  0.662077     -0.068734   \n",
       "baths                    0.298923  0.701624  0.662077  1.000000     -0.006286   \n",
       "cats_allowed            -0.028755 -0.077941 -0.068734 -0.006286      1.000000   \n",
       "dogs_allowed            -0.022122 -0.035875 -0.033793  0.033593      0.887297   \n",
       "smoking_allowed         -0.165341 -0.036048 -0.009782 -0.008560      0.017029   \n",
       "wheelchair_access        0.071598 -0.016624 -0.034978  0.015447      0.122366   \n",
       "electric_vehicle_charge  0.117325  0.005507 -0.015991  0.008522      0.049356   \n",
       "comes_furnished          0.008886  0.008943  0.005177  0.014225     -0.058884   \n",
       "lat                      0.060019  0.020885  0.042250 -0.088372     -0.016147   \n",
       "long                    -0.197855  0.073267  0.023894 -0.013435      0.020191   \n",
       "\n",
       "                         dogs_allowed  smoking_allowed  wheelchair_access  \\\n",
       "price                       -0.022122        -0.165341           0.071598   \n",
       "sqfeet                      -0.035875        -0.036048          -0.016624   \n",
       "beds                        -0.033793        -0.009782          -0.034978   \n",
       "baths                        0.033593        -0.008560           0.015447   \n",
       "cats_allowed                 0.887297         0.017029           0.122366   \n",
       "dogs_allowed                 1.000000         0.013796           0.129112   \n",
       "smoking_allowed              0.013796         1.000000          -0.223623   \n",
       "wheelchair_access            0.129112        -0.223623           1.000000   \n",
       "electric_vehicle_charge      0.049274        -0.096017           0.193245   \n",
       "comes_furnished             -0.037666        -0.161351           0.195817   \n",
       "lat                         -0.060366        -0.185086           0.003903   \n",
       "long                         0.005241         0.159481          -0.028282   \n",
       "\n",
       "                         electric_vehicle_charge  comes_furnished       lat  \\\n",
       "price                                   0.117325         0.008886  0.060019   \n",
       "sqfeet                                  0.005507         0.008943  0.020885   \n",
       "beds                                   -0.015991         0.005177  0.042250   \n",
       "baths                                   0.008522         0.014225 -0.088372   \n",
       "cats_allowed                            0.049356        -0.058884 -0.016147   \n",
       "dogs_allowed                            0.049274        -0.037666 -0.060366   \n",
       "smoking_allowed                        -0.096017        -0.161351 -0.185086   \n",
       "wheelchair_access                       0.193245         0.195817  0.003903   \n",
       "electric_vehicle_charge                 1.000000         0.069611  0.027735   \n",
       "comes_furnished                         0.069611         1.000000  0.005861   \n",
       "lat                                     0.027735         0.005861  1.000000   \n",
       "long                                   -0.065967        -0.020810 -0.096071   \n",
       "\n",
       "                             long  \n",
       "price                   -0.197855  \n",
       "sqfeet                   0.073267  \n",
       "beds                     0.023894  \n",
       "baths                   -0.013435  \n",
       "cats_allowed             0.020191  \n",
       "dogs_allowed             0.005241  \n",
       "smoking_allowed          0.159481  \n",
       "wheelchair_access       -0.028282  \n",
       "electric_vehicle_charge -0.065967  \n",
       "comes_furnished         -0.020810  \n",
       "lat                     -0.096071  \n",
       "long                     1.000000  "
      ]
     },
     "execution_count": 23,
     "metadata": {},
     "output_type": "execute_result"
    }
   ],
   "source": [
    "corr = df.corr()\n",
    "corr"
   ]
  },
  {
   "cell_type": "code",
   "execution_count": 24,
   "metadata": {},
   "outputs": [],
   "source": [
    "#converting Categorical into binary for analysis"
   ]
  },
  {
   "cell_type": "code",
   "execution_count": 25,
   "metadata": {},
   "outputs": [],
   "source": [
    "from sklearn.preprocessing import LabelEncoder\n",
    "le = LabelEncoder()\n",
    "df['laundry_options'] = le.fit_transform(df['laundry_options'])\n",
    "df['parking_options'] = le.fit_transform(df['parking_options'])\n",
    "df['type'] = le.fit_transform(df['type'])\n",
    "df['state'] = le.fit_transform(df['state'])"
   ]
  },
  {
   "cell_type": "code",
   "execution_count": 26,
   "metadata": {},
   "outputs": [],
   "source": [
    "#Applying Random Forest"
   ]
  },
  {
   "cell_type": "code",
   "execution_count": 27,
   "metadata": {},
   "outputs": [],
   "source": [
    "from sklearn.ensemble import RandomForestRegressor\n",
    "from sklearn.model_selection import train_test_split"
   ]
  },
  {
   "cell_type": "code",
   "execution_count": 28,
   "metadata": {},
   "outputs": [],
   "source": [
    "y = df['price']\n",
    "x = df.drop(['price','laundry_options','parking_options','type','state'],axis=1)"
   ]
  },
  {
   "cell_type": "code",
   "execution_count": 29,
   "metadata": {},
   "outputs": [],
   "source": [
    "Rtree = RandomForestRegressor()"
   ]
  },
  {
   "cell_type": "code",
   "execution_count": 30,
   "metadata": {},
   "outputs": [],
   "source": [
    "x_train, x_test, y_train, y_test = train_test_split(x, y, test_size=0.3, random_state=1)"
   ]
  },
  {
   "cell_type": "code",
   "execution_count": 31,
   "metadata": {},
   "outputs": [
    {
     "data": {
      "text/plain": [
       "RandomForestRegressor()"
      ]
     },
     "execution_count": 31,
     "metadata": {},
     "output_type": "execute_result"
    }
   ],
   "source": [
    "Rtree.fit(x_train,y_train)"
   ]
  },
  {
   "cell_type": "code",
   "execution_count": 32,
   "metadata": {},
   "outputs": [
    {
     "data": {
      "text/plain": [
       "0.8678784101670372"
      ]
     },
     "execution_count": 32,
     "metadata": {},
     "output_type": "execute_result"
    }
   ],
   "source": [
    "Rtree.score(x_test,y_test)"
   ]
  },
  {
   "cell_type": "code",
   "execution_count": 33,
   "metadata": {},
   "outputs": [],
   "source": [
    "Ry_pred = Rtree.predict(x_test)"
   ]
  },
  {
   "cell_type": "code",
   "execution_count": 34,
   "metadata": {},
   "outputs": [
    {
     "name": "stdout",
     "output_type": "stream",
     "text": [
      "Variable: sqfeet               Importance: 0.21\n",
      "Variable: beds                 Importance: 0.02\n",
      "Variable: baths                Importance: 0.02\n",
      "Variable: cats_allowed         Importance: 0.01\n",
      "Variable: dogs_allowed         Importance: 0.01\n",
      "Variable: smoking_allowed      Importance: 0.01\n",
      "Variable: wheelchair_access    Importance: 0.01\n",
      "Variable: electric_vehicle_charge Importance: 0.0\n",
      "Variable: comes_furnished      Importance: 0.01\n",
      "Variable: lat                  Importance: 0.24\n",
      "Variable: long                 Importance: 0.45\n"
     ]
    }
   ],
   "source": [
    "importances = list(Rtree.feature_importances_)\n",
    "feature_importances = [(feature, round(importance, 2)) for feature, importance in zip(x_test, importances)]\n",
    "[print('Variable: {:20} Importance: {}'.format(*pair)) for pair in feature_importances];"
   ]
  },
  {
   "cell_type": "code",
   "execution_count": null,
   "metadata": {},
   "outputs": [],
   "source": []
  }
 ],
 "metadata": {
  "kernelspec": {
   "display_name": "Python 3",
   "language": "python",
   "name": "python3"
  },
  "language_info": {
   "codemirror_mode": {
    "name": "ipython",
    "version": 3
   },
   "file_extension": ".py",
   "mimetype": "text/x-python",
   "name": "python",
   "nbconvert_exporter": "python",
   "pygments_lexer": "ipython3",
   "version": "3.8.3"
  }
 },
 "nbformat": 4,
 "nbformat_minor": 4
}
